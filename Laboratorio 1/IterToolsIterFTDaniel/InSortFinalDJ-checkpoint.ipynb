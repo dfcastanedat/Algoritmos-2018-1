{
 "cells": [
  {
   "cell_type": "code",
   "execution_count": 1,
   "metadata": {},
   "outputs": [],
   "source": [
    "import random\n",
    "import matplotlib.pyplot as plt\n",
    "import numpy as np"
   ]
  },
  {
   "cell_type": "code",
   "execution_count": 2,
   "metadata": {},
   "outputs": [
    {
     "name": "stdout",
     "output_type": "stream",
     "text": [
      "Mejor tiempo teorico, 246\n",
      "Pero tiempo teorico,3921.0\n",
      "Tiempo promedio teorico,2083.5\n",
      "Mejor tiempo experimenal, 1364\n",
      "Peor tiempo experimental,2654\n",
      "Tiempo promedio experimental,2034\n"
     ]
    },
    {
     "data": {
      "image/png": "[encoded data removed]",
      "text/plain": [
       "<matplotlib.figure.Figure at 0xc57ff70>"
      ]
     },
     "metadata": {},
     "output_type": "display_data"
    },
    {
     "data": {
      "image/png": "[encoded data removed]",
      "text/plain": [
       "<matplotlib.figure.Figure at 0xc680910>"
      ]
     },
     "metadata": {},
     "output_type": "display_data"
    },
    {
     "data": {
      "image/png": "[encoded data removed]",
      "text/plain": [
       "<matplotlib.figure.Figure at 0xc884cb0>"
      ]
     },
     "metadata": {},
     "output_type": "display_data"
    }
   ],
   "source": [
    "def randomPerm(n):\n",
    "    v = []\n",
    "    for i in range(n):\n",
    "        v.append(i + 1)\n",
    "    for i in range(len(v) - 1):\n",
    "        j = random.randint(i, len(v) - 1)\n",
    "        aux = v[i]\n",
    "        v[i] = v[j]\n",
    "        v[j] = aux\n",
    "    return v\n",
    "\n",
    "def isortSteps(a):\n",
    "    v = []\n",
    "    for i in range(len(a)):\n",
    "        v.append(a[i])\n",
    "\n",
    "    steps = 0\n",
    "\n",
    "    for i in range(1, len(v)):\n",
    "        x = v[i]\n",
    "        j = i - 1\n",
    "        while (j > -1) and (v[j] > x):\n",
    "            v[j + 1] = v[j]\n",
    "            j = j - 1\n",
    "            steps = steps + 3\n",
    "        v[j + 1] = x\n",
    "        steps = steps + 4\n",
    "    steps = steps + 1\n",
    "    return steps\n",
    "\n",
    "def isortSwaps(a):\n",
    "    v = []\n",
    "    for i in range(len(a)):\n",
    "        v.append(a[i])\n",
    "\n",
    "    swaps = 0\n",
    "\n",
    "    for i in range(1, len(v)):\n",
    "        x = v[i]\n",
    "        j = i - 1\n",
    "        while (j > -1) and (v[j] > x):\n",
    "            v[j + 1] = v[j]\n",
    "            j = j - 1\n",
    "            swaps = swaps + 1\n",
    "        v[j + 1] = x\n",
    "    return swaps\n",
    "\n",
    "def isortComps(a):\n",
    "    v = []\n",
    "    for i in range(len(a)):\n",
    "        v.append(a[i])\n",
    "\n",
    "    comps = 0\n",
    "\n",
    "    for i in range(1, len(v)):\n",
    "        x = v[i]\n",
    "        j = i - 1\n",
    "        while (j > -1) and (v[j] > x):\n",
    "            comps = comps + 1\n",
    "            v[j + 1] = v[j]\n",
    "            j = j - 1\n",
    "        v[j + 1] = x\n",
    "    return comps\n",
    "\n",
    "n = 50\n",
    "runs = 10000\n",
    "steps = []\n",
    "swaps = []\n",
    "comps = []\n",
    "sum = 0\n",
    "min = n**3\n",
    "max = 0\n",
    "for i in range(runs):\n",
    "    t = isortSteps(randomPerm(n))\n",
    "    steps.append(t)\n",
    "    x = isortComps(randomPerm(n))\n",
    "    comps.append(x)\n",
    "    y = isortSwaps(randomPerm(n))\n",
    "    swaps.append(y)\n",
    "    if t < min:\n",
    "       min = t\n",
    "    if t > max:\n",
    "       max = t\n",
    "    sum = sum + t\n",
    "\n",
    "print 'Mejor tiempo teorico, ' + str(5*n - 4)\n",
    "print 'Pero tiempo teorico,' + str((3.0/2.0)*n**2 + (7.0/2.0)*n - 4)\n",
    "print 'Tiempo promedio teorico,' + str((3.0/4.0)*n**2 + (17.0/4.0)*n - 4)\n",
    "print 'Mejor tiempo experimenal, ' + str(min)\n",
    "print 'Peor tiempo experimental,' + str(max)\n",
    "print 'Tiempo promedio experimental,' + str(sum/runs)\n",
    "\n",
    "\n",
    "numero = np.zeros((10000))\n",
    "for i in range(10000):\n",
    "    numero[i] = i\n",
    "\n",
    "\n",
    "plt.hist(steps, bins='auto', color=\"black\")\n",
    "plt.title(\"Steps usando numeros aleatoros para n = 50\")\n",
    "plt.show()\n",
    "\n",
    "plt.hist(swaps, bins='auto', color=\"black\")\n",
    "plt.title(\"Swaps usando numeros aleatoros para n = 50\")\n",
    "plt.show()\n",
    "plt.hist(comps, bins='auto', color=\"black\")\n",
    "plt.title(\"Comparaciones usando numeros aleatoros para n = 50\")\n",
    "plt.show()"
   ]
  }
 ],
 "metadata": {
  "kernelspec": {
   "display_name": "Python 2",
   "language": "python",
   "name": "python2"
  },
  "language_info": {
   "codemirror_mode": {
    "name": "ipython",
    "version": 2
   },
   "file_extension": ".py",
   "mimetype": "text/x-python",
   "name": "python",
   "nbconvert_exporter": "python",
   "pygments_lexer": "ipython2",
   "version": "2.7.14"
  }
 },
 "nbformat": 4,
 "nbformat_minor": 1
}
