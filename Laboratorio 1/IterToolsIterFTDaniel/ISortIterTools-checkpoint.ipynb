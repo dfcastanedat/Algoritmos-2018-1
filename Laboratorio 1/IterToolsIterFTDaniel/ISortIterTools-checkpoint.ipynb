{
 "cells": [
  {
   "cell_type": "code",
   "execution_count": 1,
   "metadata": {
    "collapsed": true
   },
   "outputs": [],
   "source": [
    "import itertools as it\n",
    "import matplotlib.pyplot as plt\n",
    "import numpy as np"
   ]
  },
  {
   "cell_type": "code",
   "execution_count": 2,
   "metadata": {},
   "outputs": [
    {
     "name": "stdout",
     "output_type": "stream",
     "text": [
      "Mejor tiempo teorico, 36\n",
      "Pero tiempo teorico,120.0\n",
      "Tiempo promedio teorico,78.0\n",
      "Mejor tiempo experimenal,0\n",
      "Peor tiempo experimental,28\n",
      "Tiempo promedio experimental,14\n"
     ]
    },
    {
     "data": {
      "image/png": "[encoded data removed]",
      "text/plain": [
       "<matplotlib.figure.Figure at 0xc5ca150>"
      ]
     },
     "metadata": {},
     "output_type": "display_data"
    },
    {
     "data": {
      "image/png": "[encoded data removed]",
      "text/plain": [
       "<matplotlib.figure.Figure at 0xc5b3e10>"
      ]
     },
     "metadata": {},
     "output_type": "display_data"
    },
    {
     "data": {
      "image/png": "[encoded data removed]",
      "text/plain": [
       "<matplotlib.figure.Figure at 0xc5b3d50>"
      ]
     },
     "metadata": {},
     "output_type": "display_data"
    }
   ],
   "source": [
    "def factorial(n):\n",
    "    if n == 0:\n",
    "        return 1\n",
    "    else:\n",
    "        return n * factorial(n-1)\n",
    "\n",
    "def randomPerm(n):\n",
    "    v = []\n",
    "    arr_de_tdas_las_posibles_permutaciones = []\n",
    "    for i in range(n):\n",
    "        v.append(i)\n",
    "    arreglo = (list(it.permutations(v,n)))\n",
    "    for i in range(factorial(n)):\n",
    "        arr_de_tdas_las_posibles_permutaciones.append(list(arreglo[i]))\n",
    "    return arr_de_tdas_las_posibles_permutaciones\n",
    "\n",
    "def isortSteps(a):\n",
    "    v = []\n",
    "    for i in range(len(a)):\n",
    "        v.append(a[i])\n",
    "    steps = 0\n",
    "    for i in range(1, len(v)):\n",
    "        x = v[i]\n",
    "        j = i - 1\n",
    "        while (j > -1) and (v[j] > x):\n",
    "            v[j + 1] = v[j]\n",
    "            j = j - 1\n",
    "            steps += 3\n",
    "        steps += 1\n",
    "        v[j + 1] = x\n",
    "        steps += 4\n",
    "    steps += 1\n",
    "    return steps\n",
    "\n",
    "def isortSwaps(a):\n",
    "    v = []\n",
    "    for i in range(len(a)):\n",
    "        v.append(a[i])\n",
    "\n",
    "    swaps = 0\n",
    "\n",
    "    for i in range(1, len(v)):\n",
    "        x = v[i]\n",
    "        j = i - 1\n",
    "        while (j > -1) and (v[j] > x):\n",
    "            v[j + 1] = v[j]\n",
    "            j = j - 1\n",
    "            swaps = swaps + 1\n",
    "        v[j + 1] = x\n",
    "    return swaps\n",
    "\n",
    "def isortComps(a):\n",
    "    v = []\n",
    "    for i in range(len(a)):\n",
    "        v.append(a[i])\n",
    "\n",
    "    comps = 0\n",
    "\n",
    "    for i in range(1, len(v)):\n",
    "        x = v[i]\n",
    "        j = i - 1\n",
    "        while (j > -1) and (v[j] > x):\n",
    "            comps = comps + 1\n",
    "            v[j + 1] = v[j]\n",
    "            j = j - 1\n",
    "        v[j + 1] = x\n",
    "    return comps\n",
    "\n",
    "\n",
    "steps = []\n",
    "swaps = []\n",
    "comps = []\n",
    "n = 8\n",
    "sum = 0\n",
    "min = n ** 3\n",
    "max = 0\n",
    "arr_de_tdas_las_posibles_permutaciones = randomPerm(n);\n",
    "arr_de_tdas_las_posibles_permutaciones2 = randomPerm(n);\n",
    "arr_de_tdas_las_posibles_permutaciones3 = randomPerm(n);\n",
    "for i in range(factorial(n)):\n",
    "    t = isortSteps(arr_de_tdas_las_posibles_permutaciones.pop())\n",
    "    steps.append(t)\n",
    "    x = isortSwaps(arr_de_tdas_las_posibles_permutaciones2.pop())\n",
    "    swaps.append(t)\n",
    "    t = isortComps(arr_de_tdas_las_posibles_permutaciones3.pop())\n",
    "    comps.append(t)\n",
    "    if t < min :\n",
    "        min = t\n",
    "    if t > max :\n",
    "        max = t\n",
    "    sum = sum + t\n",
    "print ('Mejor tiempo teorico, ' + str(5*n - 4) )\n",
    "print ('Pero tiempo teorico,' + str((3.0/2.0)*n**2 + (7.0/2.0)*n - 4))\n",
    "print ('Tiempo promedio teorico,' + str((3.0/4.0)*n**2 + (17.0/4.0)*n - 4))\n",
    "print ('Mejor tiempo experimenal,' + str(min))\n",
    "print ('Peor tiempo experimental,' + str(max))\n",
    "print ('Tiempo promedio experimental,' + str(sum/factorial(n)))\n",
    "\n",
    "import numpy as np\n",
    "numero = np.zeros(factorial(n))\n",
    "for i in range(factorial(n)):\n",
    "    numero[i] = i\n",
    "\n",
    "plt.hist(steps, bins='auto', color=\"black\")\n",
    "plt.title(\"Steps usando numeros aleatoros para n = 50\")\n",
    "plt.show()\n",
    "\n",
    "plt.hist(swaps, bins='auto', color=\"black\")\n",
    "plt.title(\"Swaps usando numeros aleatoros para n = 50\")\n",
    "plt.show()\n",
    "\n",
    "plt.hist(comps, bins='auto', color=\"black\")\n",
    "plt.title(\"Comparaciones usando numeros aleatoros para n = 50\")\n",
    "plt.show()"
   ]
  }
 ],
 "metadata": {
  "kernelspec": {
   "display_name": "Python 2",
   "language": "python",
   "name": "python2"
  },
  "language_info": {
   "codemirror_mode": {
    "name": "ipython",
    "version": 2
   },
   "file_extension": ".py",
   "mimetype": "text/x-python",
   "name": "python",
   "nbconvert_exporter": "python",
   "pygments_lexer": "ipython2",
   "version": "2.7.14"
  }
 },
 "nbformat": 4,
 "nbformat_minor": 1
}
