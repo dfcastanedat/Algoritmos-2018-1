{
 "cells": [
  {
   "cell_type": "code",
   "execution_count": 1,
   "metadata": {},
   "outputs": [],
   "source": [
    "import time\n",
    "import numpy as np\n",
    "import pylab as pl"
   ]
  },
  {
   "cell_type": "code",
   "execution_count": 2,
   "metadata": {},
   "outputs": [
    {
     "name": "stdout",
     "output_type": "stream",
     "text": [
      "100\n"
     ]
    },
    {
     "data": {
      "image/png": "[encoded data removed]",
      "text/plain": [
       "<matplotlib.figure.Figure at 0x4e604f0>"
      ]
     },
     "metadata": {},
     "output_type": "display_data"
    }
   ],
   "source": [
    "n=raw_input()\n",
    "\n",
    "def crear_matriz(tamano, valor):\n",
    "    lamatriz = []\n",
    "    for i in range(0, tamano):\n",
    "        lamatriz.append([])\n",
    "        for j in range (0, tamano):\n",
    "            lamatriz[i].append(valor)\n",
    "    return lamatriz\n",
    "\n",
    "def mult(matriz1, matriz2, matriz3):\n",
    "    for i in range(len(matriz1)):\n",
    "        for j in range(len(matriz2[0])):\n",
    "            for k in range(len(matriz1[0])):\n",
    "                matriz3[i][j] += matriz1[i][k] * matriz2[k][j]\n",
    "    return matriz3\n",
    "\n",
    "listaprom=[]\n",
    "for m in range(2,int(n)+1):\n",
    "    matrizA=crear_matriz(int(m),1)\n",
    "    matrizB=crear_matriz(int(m),2)\n",
    "    matrizC=crear_matriz(int(m),0)\n",
    "    lista=[]\n",
    "    for i in range(10):\n",
    "            tempo0=time.clock()\n",
    "            mult(matrizA,matrizB,matrizC)\n",
    "            tempo1=time.clock()\n",
    "            ca=(tempo1-tempo0)/(2*int(m)**3)\n",
    "            lista.append(ca)\n",
    "    avg=np.average(lista)\n",
    "    listaprom.append(avg)\n",
    "\n",
    "numeros = np.arange(1, int(n), 1)\n",
    "pl.ylabel(\"Tiempo\")\n",
    "pl.xlabel(\"N Matrices, N Tamano\")\n",
    "pl.plot(numeros, listaprom)\n",
    "pl.show()"
   ]
  }
 ],
 "metadata": {
  "kernelspec": {
   "display_name": "Python 2",
   "language": "python",
   "name": "python2"
  },
  "language_info": {
   "codemirror_mode": {
    "name": "ipython",
    "version": 2
   },
   "file_extension": ".py",
   "mimetype": "text/x-python",
   "name": "python",
   "nbconvert_exporter": "python",
   "pygments_lexer": "ipython2",
   "version": "2.7.14"
  }
 },
 "nbformat": 4,
 "nbformat_minor": 1
}
