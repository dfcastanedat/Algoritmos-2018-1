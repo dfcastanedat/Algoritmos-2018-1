{
 "cells": [
  {
   "cell_type": "code",
   "execution_count": 2,
   "metadata": {},
   "outputs": [
    {
     "name": "stdout",
     "output_type": "stream",
     "text": [
      "Mejor tiempo teorico, 41\nPeor tiempo teorico,149.0\nTiempo promedio teorico,95.0\nMejor tiempo experimental, 41\nPeor tiempo Experimenal,149\nTiempo promedio Experimenal,95\n"
     ]
    }
   ],
   "source": [
    "import itertools as it\n",
    "\n",
    "def factorial(n):\n",
    "    if n == 0:\n",
    "        return 1\n",
    "    else:\n",
    "        return n * factorial(n-1)\n",
    "\n",
    "def randomPerm(n):\n",
    "    v = []\n",
    "    arr_de_tdas_las_posibles_permutaciones = []\n",
    "    for i in range(n):\n",
    "        v.append(i)\n",
    "    arreglo = (list(it.permutations(v,n)))\n",
    "    for i in range(factorial(n)):\n",
    "        arr_de_tdas_las_posibles_permutaciones.append(list(arreglo[i]))\n",
    "    return arr_de_tdas_las_posibles_permutaciones\n",
    "\n",
    "def isortSteps(a):\n",
    "    v = []\n",
    "    for i in range(len(a)):\n",
    "        v.append(a[i])\n",
    "    steps = 0\n",
    "    for i in range(1, len(v)):\n",
    "        x = v[i]\n",
    "        j = i - 1\n",
    "        while (j > -1) and (v[j] > x):\n",
    "            v[j + 1] = v[j]\n",
    "            j = j - 1\n",
    "            steps += 3\n",
    "        steps += 1\n",
    "        v[j + 1] = x\n",
    "        steps += 4\n",
    "    steps += 1\n",
    "    return steps\n",
    "\n",
    "arr = []\n",
    "n = 9\n",
    "sum = 0\n",
    "min = n ** 3\n",
    "max = 0\n",
    "arr_de_tdas_las_posibles_permutaciones = randomPerm(n);\n",
    "for i in range(factorial(n)):\n",
    "    t = isortSteps(arr_de_tdas_las_posibles_permutaciones.pop())\n",
    "    arr.append(t)\n",
    "    if t < min :\n",
    "        min = t\n",
    "    if t > max :\n",
    "        max = t\n",
    "    sum = sum + t\n",
    "print ('Mejor tiempo teorico, ' + str(5*n - 4) )\n",
    "print ('Peor tiempo teorico,' + str((3.0/2.0)*n**2 + (7.0/2.0)*n - 4))\n",
    "print ('Tiempo promedio teorico,' + str((3.0/4.0)*n**2 + (17.0/4.0)*n - 4))\n",
    "print ('Mejor tiempo experimental, ' + str(min))\n",
    "print ('Peor tiempo Experimenal,' + str(max))\n",
    "print ('Tiempo promedio Experimenal,' + str(sum/factorial(n)))"
   ]
  },
  {
   "cell_type": "code",
   "execution_count": 3,
   "metadata": {},
   "outputs": [],
   "source": [
    "import numpy as np\n",
    "numero = np.zeros(factorial(n))\n",
    "for i in range(factorial(n)):\n",
    "    numero[i] = i"
   ]
  },
  {
   "cell_type": "code",
   "execution_count": 6,
   "metadata": {
    "collapsed": false
   },
   "outputs": [
    {
     "data": {
      "image/png": "[encoded data removed]",
      "text/plain": [
       "<matplotlib.figure.Figure at 0xa2989f0>"
      ]
     },
     "metadata": {},
     "output_type": "display_data"
    }
   ],
   "source": [
    "import matplotlib.pyplot as plt\n",
    "plt.plot(numero, arr, 'b^')\n",
    "plt.ylabel('#de movimientos')\n",
    "plt.xlabel('n')\n",
    "plt.show()"
   ]
  },
  {
   "cell_type": "code",
   "execution_count": 5,
   "metadata": {},
   "outputs": [
    {
     "data": {
      "image/png": "[encoded data removed]",
      "text/plain": [
       "<matplotlib.figure.Figure at 0xa24faf0>"
      ]
     },
     "metadata": {},
     "output_type": "display_data"
    }
   ],
   "source": [
    "import matplotlib.pyplot as plt\n",
    "plt.hist(arr, bins='auto')\n",
    "plt.title(\"Histograma con todas las permutaciones de n=9\")\n",
    "plt.show()"
   ]
  },
  {
   "cell_type": "code",
   "execution_count": null,
   "metadata": {},
   "outputs": [],
   "source": []
  }
 ],
 "metadata": {
  "kernelspec": {
   "display_name": "Python 2",
   "language": "python",
   "name": "python2"
  },
  "language_info": {
   "codemirror_mode": {
    "name": "ipython",
    "version": 2
   },
   "file_extension": ".py",
   "mimetype": "text/x-python",
   "name": "python",
   "nbconvert_exporter": "python",
   "pygments_lexer": "ipython2",
   "version": "2.7.6"
  }
 },
 "nbformat": 4,
 "nbformat_minor": 0
}
