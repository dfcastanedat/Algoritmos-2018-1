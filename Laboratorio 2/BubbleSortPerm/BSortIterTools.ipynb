{
 "cells": [
  {
   "cell_type": "code",
   "execution_count": 1,
   "metadata": {
    "collapsed": true
   },
   "outputs": [],
   "source": [
    "import itertools as it\n",
    "import matplotlib.pyplot as plt\n",
    "import numpy as np"
   ]
  },
  {
   "cell_type": "code",
   "execution_count": 3,
   "metadata": {
    "collapsed": false
   },
   "outputs": [
    {
     "name": "stdout",
     "output_type": "stream",
     "text": [
      "Mejor tiempo teorico, 36\nPero tiempo teorico,120.0\nTiempo promedio teorico,78.0\nMejor tiempo experimenal,0\nPeor tiempo experimental,28\nTiempo promedio experimental,14\n"
     ]
    },
    {
     "data": {
      "image/png": "[encoded data removed]",
      "text/plain": [
       "<matplotlib.figure.Figure at 0x675aad0>"
      ]
     },
     "metadata": {},
     "output_type": "display_data"
    },
    {
     "data": {
      "image/png": "[encoded data removed]",
      "text/plain": [
       "<matplotlib.figure.Figure at 0xce15d10>"
      ]
     },
     "metadata": {},
     "output_type": "display_data"
    },
    {
     "data": {
      "image/png": "[encoded data removed]",
      "text/plain": [
       "<matplotlib.figure.Figure at 0xc817a90>"
      ]
     },
     "metadata": {},
     "output_type": "display_data"
    }
   ],
   "source": [
    "def factorial(n):\n",
    "    if n == 0:\n",
    "        return 1\n",
    "    else:\n",
    "        return n * factorial(n-1)\n",
    "\n",
    "def randomPerm(n):\n",
    "    v = []\n",
    "    arr_de_tdas_las_posibles_permutaciones = []\n",
    "    for i in range(n):\n",
    "        v.append(i)\n",
    "    arreglo = (list(it.permutations(v,n)))\n",
    "    for i in range(factorial(n)):\n",
    "        arr_de_tdas_las_posibles_permutaciones.append(list(arreglo[i]))\n",
    "    return arr_de_tdas_las_posibles_permutaciones\n",
    "\n",
    "def bubbleSortSteps(arr):\n",
    "    pasos=0\n",
    "    comparaciones=0\n",
    "    intercambios=0\n",
    "    for k in range(len(arr) - 1, 0, -1):\n",
    "        pasos+=1\n",
    "        for i in range(k):\n",
    "            if arr[i] > arr[i + 1]:\n",
    "                comparaciones+=1\n",
    "                temp = arr[i]\n",
    "                arr[i] = arr[i + 1]\n",
    "                arr[i + 1] = temp\n",
    "                pasos+=2\n",
    "                intercambios+=1\n",
    "            pasos+=2\n",
    "    return pasos\n",
    "\n",
    "def bubbleSortSwaps(arr):\n",
    "    pasos=0\n",
    "    comparaciones=0\n",
    "    intercambios=0\n",
    "    for k in range(len(arr) - 1, 0, -1):\n",
    "        pasos+=1\n",
    "        for i in range(k):\n",
    "            if arr[i] > arr[i + 1]:\n",
    "                comparaciones+=1\n",
    "                temp = arr[i]\n",
    "                arr[i] = arr[i + 1]\n",
    "                arr[i + 1] = temp\n",
    "                pasos+=2\n",
    "                intercambios+=1\n",
    "            pasos+=2\n",
    "    return intercambios\n",
    "\n",
    "def bubbleSortComps(arr):\n",
    "    pasos=0\n",
    "    comparaciones=0\n",
    "    intercambios=0\n",
    "    for k in range(len(arr) - 1, 0, -1):\n",
    "        pasos+=1\n",
    "        for i in range(k):\n",
    "            if arr[i] > arr[i + 1]:\n",
    "                comparaciones+=1\n",
    "                temp = arr[i]\n",
    "                arr[i] = arr[i + 1]\n",
    "                arr[i + 1] = temp\n",
    "                pasos+=2\n",
    "                intercambios+=1\n",
    "            pasos+=2\n",
    "    return comparaciones\n",
    "\n",
    "steps = []\n",
    "swaps = []\n",
    "comps = []\n",
    "n = 8\n",
    "sum = 0\n",
    "min = n ** 3\n",
    "max = 0\n",
    "arr_de_tdas_las_posibles_permutaciones = randomPerm(n);\n",
    "arr_de_tdas_las_posibles_permutaciones2 = randomPerm(n);\n",
    "arr_de_tdas_las_posibles_permutaciones3 = randomPerm(n);\n",
    "for i in range(factorial(n)):\n",
    "    t = bubbleSortSteps(arr_de_tdas_las_posibles_permutaciones.pop())\n",
    "    steps.append(t)\n",
    "    x = bubbleSortSwaps(arr_de_tdas_las_posibles_permutaciones2.pop())\n",
    "    swaps.append(t)\n",
    "    t = bubbleSortComps(arr_de_tdas_las_posibles_permutaciones3.pop())\n",
    "    comps.append(t)\n",
    "    if t < min :\n",
    "        min = t\n",
    "    if t > max :\n",
    "        max = t\n",
    "    sum = sum + t\n",
    "print ('Mejor tiempo teorico, ' + str(5*n - 4) )\n",
    "print ('Pero tiempo teorico,' + str((3.0/2.0)*n**2 + (7.0/2.0)*n - 4))\n",
    "print ('Tiempo promedio teorico,' + str((3.0/4.0)*n**2 + (17.0/4.0)*n - 4))\n",
    "print ('Mejor tiempo experimenal,' + str(min))\n",
    "print ('Peor tiempo experimental,' + str(max))\n",
    "print ('Tiempo promedio experimental,' + str(sum/factorial(n)))\n",
    "\n",
    "import numpy as np\n",
    "numero = np.zeros(factorial(n))\n",
    "for i in range(factorial(n)):\n",
    "    numero[i] = i\n",
    "\n",
    "plt.hist(steps, bins='auto', color=\"black\")\n",
    "plt.title(\"Steps usando numeros aleatoros para n = 50\")\n",
    "plt.show()\n",
    "\n",
    "plt.hist(swaps, bins='auto', color=\"black\")\n",
    "plt.title(\"Swaps usando numeros aleatoros para n = 50\")\n",
    "plt.show()\n",
    "\n",
    "plt.hist(comps, bins='auto', color=\"black\")\n",
    "plt.title(\"Comparaciones usando numeros aleatoros para n = 50\")\n",
    "plt.show()"
   ]
  }
 ],
 "metadata": {
  "kernelspec": {
   "display_name": "Python 2",
   "language": "python",
   "name": "python2"
  },
  "language_info": {
   "codemirror_mode": {
    "name": "ipython",
    "version": 2
   },
   "file_extension": ".py",
   "mimetype": "text/x-python",
   "name": "python",
   "nbconvert_exporter": "python",
   "pygments_lexer": "ipython2",
   "version": "2.7.6"
  }
 },
 "nbformat": 4,
 "nbformat_minor": 0
}
