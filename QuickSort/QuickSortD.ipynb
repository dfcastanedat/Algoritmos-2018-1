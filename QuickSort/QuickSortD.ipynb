{
 "cells": [
  {
   "cell_type": "markdown",
   "metadata": {
    "collapsed": true
   },
   "source": [
    "## iPython Book para analisis de QuickSort"
   ]
  },
  {
   "cell_type": "code",
   "execution_count": 7,
   "metadata": {},
   "outputs": [],
   "source": [
    "import random\n",
    "import statistics\n",
    "import math\n",
    "\n",
    "import matplotlib.pyplot as plt\n",
    "%matplotlib inline"
   ]
  },
  {
   "cell_type": "code",
   "execution_count": 8,
   "metadata": {},
   "outputs": [],
   "source": [
    "def randomquicksort(alist,times):\n",
    "   comp = [0]\n",
    "   randomquicksorthelper(alist,0,len(alist)-1,comp)\n",
    "   times.append(comp[0])"
   ]
  },
  {
   "cell_type": "code",
   "execution_count": 9,
   "metadata": {},
   "outputs": [],
   "source": [
    "def randomquicksorthelper(alist,first,last,comp):\n",
    "   if first<last:\n",
    "\n",
    "       r = randompartition(alist,first,last)\n",
    "       splitpoint = r[0]\n",
    "       tmp = comp.pop()\n",
    "       comp.append(tmp+r[1])\n",
    "    \n",
    "       randomquicksorthelper(alist,first,splitpoint-1,comp)\n",
    "       randomquicksorthelper(alist,splitpoint+1,last,comp)"
   ]
  },
  {
   "cell_type": "code",
   "execution_count": 10,
   "metadata": {},
   "outputs": [],
   "source": [
    "def randompartition(alist,first,last):\n",
    "  \n",
    "   indxpiv = random.randint(first,last)\n",
    "   temp = alist[indxpiv]\n",
    "   alist[indxpiv] = alist[first]\n",
    "   alist[first] = temp\n",
    "   \n",
    "   pivotvalue = alist[first]\n",
    "   compspart = 0\n",
    "\n",
    "   leftmark = first+1\n",
    "   rightmark = last\n",
    "\n",
    "   done = False\n",
    "   while not done:\n",
    "\n",
    "       while leftmark <= rightmark and alist[leftmark] <= pivotvalue:\n",
    "           leftmark = leftmark + 1\n",
    "           compspart = compspart + 1\n",
    "       compspart = compspart + 1\n",
    "\n",
    "       while alist[rightmark] >= pivotvalue and rightmark >= leftmark:\n",
    "           rightmark = rightmark -1\n",
    "           compspart = compspart + 1\n",
    "       compspart = compspart + 1\n",
    "\n",
    "       if rightmark < leftmark:\n",
    "           done = True\n",
    "       else:\n",
    "           temp = alist[leftmark]\n",
    "           alist[leftmark] = alist[rightmark]\n",
    "           alist[rightmark] = temp\n",
    "\n",
    "   temp = alist[first]\n",
    "   alist[first] = alist[rightmark]\n",
    "   alist[rightmark] = temp\n",
    "\n",
    "\n",
    "   return rightmark,compspart"
   ]
  },
  {
   "cell_type": "code",
   "execution_count": 19,
   "metadata": {},
   "outputs": [],
   "source": [
    "def randomquicksorttimedistrib(s,r):\n",
    "    \n",
    "    # Create an array of 1 .. n  \n",
    "    n=s\n",
    "    runs=r\n",
    "    x = []\n",
    "    for i in range(1,n+1):\n",
    "        x.append(n+1-i)\n",
    "    \n",
    "     # Run quicksort for each permutation\n",
    "    tlist =[]\n",
    "    for p in range(1,runs+1):\n",
    "          y = list(x)\n",
    "          randomquicksort(y,tlist)\n",
    "          \n",
    "    count = 0\n",
    "    for i in range (len(tlist)):\n",
    "        if (tlist[i] >= 96):\n",
    "            count += 1\n",
    "            \n",
    "            \n",
    "    plt.hist(tlist, facecolor='g')\n",
    "    plt.title(\"Number of comparison of Quicksort for all permutaions\")\n",
    "    plt.xlabel(\"Comparisons of elements\")\n",
    "    plt.ylabel(\"Frequency\")\n",
    "    plt.grid(True)\n",
    "    plt.show()\n",
    "    \n",
    "    Eaverage = statistics.mean(tlist)\n",
    "    \n",
    "    print \"Size=\",n\n",
    "    print \"Runs=\",runs\n",
    "    print \"Mean=\",Eaverage\n",
    "    print \"Stdev=\",statistics.stdev(tlist)\n",
    "    print \"Min=\",min(tlist)\n",
    "    print \"Max=\",max(tlist)\n",
    "    print \"Theoretical average=\", 16*math.log(16)/math.log(2)\n",
    "    print \"Experimental average - theoretical average=\", Eaverage - 16*math.log(16)/math.log(2)\n",
    "    print \"Probability it takes than 1.5 times more than the theoretical average=\", float(count)/float(len(tlist))"
   ]
  },
  {
   "cell_type": "code",
   "execution_count": null,
   "metadata": {},
   "outputs": [
    {
     "data": {
      "image/png": "[encoded data removed]",
      "text/plain": [
       "<matplotlib.figure.Figure at 0xc14b330>"
      ]
     },
     "metadata": {},
     "output_type": "display_data"
    },
    {
     "name": "stdout",
     "output_type": "stream",
     "text": [
      "Size= 16\n",
      "Runs= 10000000\n",
      "Mean= 83.6653742\n",
      "Stdev="
     ]
    }
   ],
   "source": [
    "randomquicksorttimedistrib(16,10000000)"
   ]
  },
  {
   "cell_type": "code",
   "execution_count": null,
   "metadata": {},
   "outputs": [],
   "source": [
    ""
   ]
  }
 ],
 "metadata": {
  "kernelspec": {
   "display_name": "Python 2",
   "language": "python",
   "name": "python2"
  },
  "language_info": {
   "codemirror_mode": {
    "name": "ipython",
    "version": 2.0
   },
   "file_extension": ".py",
   "mimetype": "text/x-python",
   "name": "python",
   "nbconvert_exporter": "python",
   "pygments_lexer": "ipython2",
   "version": "2.7.11"
  }
 },
 "nbformat": 4,
 "nbformat_minor": 0
}